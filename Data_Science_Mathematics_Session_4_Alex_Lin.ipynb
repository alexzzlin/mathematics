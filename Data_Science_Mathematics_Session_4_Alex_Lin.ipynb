{
 "cells": [
  {
   "cell_type": "markdown",
   "metadata": {},
   "source": [
    "# Data Science Mathematics\n",
    "# K-Means Clustering\n",
    "# In-Class Activity"
   ]
  },
  {
   "cell_type": "markdown",
   "metadata": {},
   "source": [
    "You are an OSINT analyst for the Marine Corps Intelligence Activity.  You’ve collected a significant number of tweets from a particular geographic region of interest, and are interested in developing an algorithm to illuminate differences that may exist within your data set.  You know that some of the tweets are from known military personnel, and you hope to demonstrate that a clustering technique can be used to highlight these differences within the larger data set.  You’ve engineered quantifiable features from your data, which you intend to use to build a supervised clustering algorithm.\n",
    "\n",
    " | User ID | Feature 1 | Feature 2 | Feature 3 | Military (1=YES, 0=NO) |\n",
    " |---------|-----------|-----------|-----------|------------------------|\n",
    " | 1001 | 8 | 22 | 62 | 1 | \n",
    " | 1002 | 15 | 51 | 85 | 0 | \n",
    " | 1003 | 9 | 44 | 121 | 0 | \n",
    " | 1004 | 8 | 51 | 136 | 0 | \n",
    " | 1005 | 8 | 20 | 93 | 1 | \n",
    " | 1006 | 15 | 64 | 124 | 0 | \n",
    " | 1007 | 14 | 56 | 101 | 0 | \n",
    " | 1008 | 5 | 10 | 80 | 1 | \n",
    " | 1009 | 5 | 18 | 73 | 1 | \n",
    " | 1010 | 9 | 26 | 79 | 1 | \n",
    "\n",
    "Let's analyze our data set using the K-means module of Python.  First, import the relevant libraries."
   ]
  },
  {
   "cell_type": "code",
   "execution_count": 1,
   "metadata": {},
   "outputs": [],
   "source": [
    "from sklearn.cluster import KMeans\n",
    "import numpy as np"
   ]
  },
  {
   "cell_type": "markdown",
   "metadata": {},
   "source": [
    "Now let's import our dataset as a Numpy array."
   ]
  },
  {
   "cell_type": "code",
   "execution_count": 2,
   "metadata": {},
   "outputs": [],
   "source": [
    "data=np.array([[8,22,62],\n",
    "[15,51,85],\n",
    "[9,44,121],\n",
    "[8,51,136],\n",
    "[8,20,93],\n",
    "[15,64,124],\n",
    "[14,56,101],\n",
    "[5,10,80],\n",
    "[5,18,73],\n",
    "[9,26,79]])\n",
    "\n",
    "Military_Yes_No_True = [1, 0, 0, 0, 1, 0, 0, 1, 1, 1]  # Military (1=YES, 0=NO)\n",
    "\n",
    "#data[0,0], data[0,1]\n",
    "#for dat in data: \n",
    "#    print(dat)"
   ]
  },
  {
   "cell_type": "markdown",
   "metadata": {},
   "source": [
    "Consider the above data set.  You have determined the three features that you believe have the greatest correlation with military status.\n",
    "\n",
    "**Question a.** Write the code for k-means clustering on the above data set using the algorithms in the slides.  Use the coordinates $(10, 20, 80)$ and $(10, 50, 110)$, corresponding to $(Feature\\ 1, Feature\\ 2, Feature\\ 3)$, as your initial “best guess” clusters.  Note that we have not known yet the mapping of given coordinates to the clusters and their respective associated military YES/NO statuses.\n",
    "\n",
    "**K-Means Algorithm**\n",
    " 1. Select number of clusters: K = 2, Given.\n",
    " 2. Select starting points for K centroids: $(10, 20, 80)$ and $(10, 50, 110)$, Given.\n",
    " 3. Iterate: \n",
    " \n",
    "    3.1. Calcualte distance from all points in the set to each centroid. \n",
    "    \n",
    "    3.2. Cluster points based on proximity to their nearest centorid.  \n",
    "    \n",
    "    3.3. Recalculate centroids based on clusters. \n",
    "    \n",
    "    3.4. Continue until convergence (i.e., cluster populations/centroids no longer change) or to within a certain margin of error.\n",
    "    \n",
    "**Answer a.** Our codes will follow the step sequences specified above.  Note that the choice of centroids coordinates for initial \"best guess\" clusters has an effect in the final converged clusters from our k-means algorithm.  The results will be shown at the end of this in-class activity."
   ]
  },
  {
   "cell_type": "code",
   "execution_count": 3,
   "metadata": {},
   "outputs": [],
   "source": [
    "# 1. Select number of clusters\n",
    "K = 2   # Two Clusters\n",
    "\n",
    "# 2. Select starting points for K centroids\n",
    "centers = np.array([[10,20,80],[10,50,110]])      # Two Centers"
   ]
  },
  {
   "cell_type": "code",
   "execution_count": 4,
   "metadata": {},
   "outputs": [],
   "source": [
    "# function to compute Euclidean distance\n",
    "def euclidean_distance(pointA, pointB):\n",
    "    total = 0\n",
    "    for i in range(len(pointA)):\n",
    "        #print(pointA[i],pointB[i])\n",
    "        total += (pointA[i] - pointB[i]) ** 2\n",
    "        \n",
    "    return total ** 0.5  # faster sqrt\n",
    "\n",
    "#euclidean_distance(data[0],centers[0])"
   ]
  },
  {
   "cell_type": "code",
   "execution_count": 5,
   "metadata": {},
   "outputs": [],
   "source": [
    "# 3.1. Calcualte distance from all points in the set to each centroid.\n",
    "# Calculate the Centroids ~ Slide 21)\n",
    "# centroids = np.mean(data, axis=0)\n",
    "\n",
    "def calc_distance(centers, points):\n",
    "    \"\"\" Inputs: list of points and centers\n",
    "        Output: a list of n dimensions where each dimesion is its own list of\n",
    "                center id, data point index, and their computed distance.\n",
    "    \"\"\"\n",
    "    distances = []\n",
    "\n",
    "    for center in range(len(centers)):\n",
    "        for point in range(len(points)):\n",
    "            #distances.append([center,point,np.linalg.norm(points[point]-centers[center])])\n",
    "            distances.append([center,point,euclidean_distance(points[point],centers[center])])\n",
    "    \n",
    "    return distances\n",
    "            \n",
    "# distance = calc_distance(centers, data)\n",
    "# print(distance[0][2],distance[10][2])\n",
    "# distance\n",
    "# List of [center ID, Point ID, Euclidean distance],\n",
    "#      [[0, 0, 18.2208671582886],\n",
    "#      [0, 1, 31.796226191169293], ....]"
   ]
  },
  {
   "cell_type": "code",
   "execution_count": 6,
   "metadata": {},
   "outputs": [],
   "source": [
    "# 3.2. Cluster points based on proximity to their nearest centorid.\n",
    "def calc_closer(centers, distances, points):\n",
    "    clusters_no = len(centers)\n",
    "    new_sets = [[[] for _ in centers[0]] for _ in range(clusters_no)]\n",
    "    clusters = [[] for _ in range(clusters_no)]\n",
    "    #create an intermediate set of centroids: \n",
    "    num_points = len(points)   # 10 data points\n",
    "    for point in range(num_points):\n",
    "        cents_to_points = []\n",
    "        for cent in range(clusters_no):    # 2 centers\n",
    "            cents_to_points.append(distances[cent*num_points+point][2])\n",
    "        #print(cents_to_points)\n",
    "        val, idx = min((val, idx) for (idx, val) in enumerate(cents_to_points))\n",
    "        \n",
    "        clusters[0].append(point)\n",
    "        clusters[1].append(idx)\n",
    "        #print(val, idx)   \n",
    "        for feature in range(len(centers[0])): \n",
    "            new_sets[idx][feature].append(points[point][feature])\n",
    "        #new_sets[idx][1].append(points[1][point])\n",
    "    return new_sets, clusters\n",
    "\n",
    "# new_sets = calc_closer(centers, distance, data)\n",
    "# print(new_sets[0])"
   ]
  },
  {
   "cell_type": "code",
   "execution_count": 7,
   "metadata": {},
   "outputs": [],
   "source": [
    "# 3.3. Recalculate centroids based on clusters. \n",
    "# 3.4. Continue until convergence (i.e., cluster populations/centroids\n",
    "#      no longer change) or to within a certain margin of error.\n",
    "# Inputs: Take two initial guess centers and data points\n",
    "# Outputs: 1.centers - Final estimated centers of two clusters\n",
    "#          2.new_sets - Data Points assigned to each cluster\n",
    "#          3.clusters - a list of cluster tentative label of 0 or 1 (not sure if it maps to Military Status yet)\n",
    "def user_kmeans(centers,points):\n",
    "    for run in range(5):\n",
    "        print(centers[0], centers[1])\n",
    "        new_centers = []\n",
    "        distance = calc_distance(centers, data)\n",
    "        new_sets, clusters = calc_closer(centers, distance, data)\n",
    "        for cent in range(len(centers)):\n",
    "            new_centers.append(np.mean(np.array(new_sets[cent]), axis=1))\n",
    "        #cent1 = np.mean(np.array(new_sets[0]), axis=1)\n",
    "        #cent2 = np.mean(np.array(new_sets[1]), axis=1)\n",
    "        #centers = [cent1, cent2]\n",
    "        centers = new_centers\n",
    "    return centers, new_sets, clusters"
   ]
  },
  {
   "cell_type": "code",
   "execution_count": 8,
   "metadata": {},
   "outputs": [
    {
     "name": "stdout",
     "output_type": "stream",
     "text": [
      "[10 20 80] [ 10  50 110]\n",
      "[ 7.  19.2 77.4] [ 12.2  53.2 113.4]\n",
      "[ 7.  19.2 77.4] [ 12.2  53.2 113.4]\n",
      "[ 7.  19.2 77.4] [ 12.2  53.2 113.4]\n",
      "[ 7.  19.2 77.4] [ 12.2  53.2 113.4]\n"
     ]
    }
   ],
   "source": [
    "# rint(np.array(data)[0:,0]), print(np.array(data)[0:,1]), print(np.array(data)[0:,2])\n",
    "# Invoke user_kmean routine\n",
    "centers = np.array([[10,20,80],[10,50,110]])      # Two Centers\n",
    "centers, new_sets, clusters = user_kmeans(centers,data)\n",
    "# Determine the sensible mapping of clusters to Military label (YES=1 and NO=0)"
   ]
  },
  {
   "cell_type": "markdown",
   "metadata": {},
   "source": [
    "**Note:** Our current implementation of k-means algorithm only classifies data points into two generic clusters but does not yet have the mechanism to determine the more sensible or logical mapping of these clusters to the true military labels.  Thus, we will add a corrective step to assign label to each cluster such that the accuracy of our k-means classification is maximized."
   ]
  },
  {
   "cell_type": "code",
   "execution_count": 9,
   "metadata": {},
   "outputs": [],
   "source": [
    "# This step is to ensure the alignment of\n",
    "#    index 0 mapping to Military NO and index 1 mapping to Military YES\n",
    "#    among all the lists or information holders used in the k-means algorithm.\n",
    "def adjust_two_clusters(cluster, Military_True, centers, new_sets):\n",
    "    check = []\n",
    "    for i in range(len(Military_True)):\n",
    "        check.append(cluster[i]==Military_True[i])\n",
    "        \n",
    "    if sum(check) < (len(Military_True) // K):\n",
    "        for i in range(len(Military_True)):\n",
    "            cluster[i] = (cluster[i]+1) % K\n",
    "        centers = [centers[1],centers[0]]\n",
    "        new_sets = [new_sets[1],new_sets[0]]\n",
    "\n",
    "    #print(cluster)\n",
    "    return cluster, centers, new_sets"
   ]
  },
  {
   "cell_type": "markdown",
   "metadata": {},
   "source": [
    "Note that the adjusted clusters 0-1 labels are more in line with the values in Military_Yes_No status."
   ]
  },
  {
   "cell_type": "code",
   "execution_count": 10,
   "metadata": {},
   "outputs": [
    {
     "name": "stdout",
     "output_type": "stream",
     "text": [
      "Prelimiary   Centers: [array([ 7. , 19.2, 77.4]), array([ 12.2,  53.2, 113.4])]\n",
      "            Clusters: [0, 1, 1, 1, 0, 1, 1, 0, 0, 0]\n",
      "         New Sets[0]: [[8, 8, 5, 5, 9], [22, 20, 10, 18, 26], [62, 93, 80, 73, 79]]\n",
      "         New Sets[1]: [[15, 9, 8, 15, 14], [51, 44, 51, 64, 56], [85, 121, 136, 124, 101]]\n",
      "\n",
      "Military Yes/No Flag: [1, 0, 0, 0, 1, 0, 0, 1, 1, 1]\n",
      "\n",
      "Adjusted    Clusters: [1, 0, 0, 0, 1, 0, 0, 1, 1, 1]\n",
      "             Centers: [array([ 12.2,  53.2, 113.4]), array([ 7. , 19.2, 77.4])]\n",
      "         New Sets[0]: [[15, 9, 8, 15, 14], [51, 44, 51, 64, 56], [85, 121, 136, 124, 101]]\n",
      "         New Sets[1]: [[8, 8, 5, 5, 9], [22, 20, 10, 18, 26], [62, 93, 80, 73, 79]]\n"
     ]
    }
   ],
   "source": [
    "print(\"Prelimiary   Centers:\", centers)\n",
    "print(\"            Clusters:\", clusters[1])\n",
    "print(\"         New Sets[0]:\", new_sets[0])\n",
    "print(\"         New Sets[1]:\", new_sets[1])\n",
    "clusters[1], centers, new_sets = adjust_two_clusters(clusters[1],Military_Yes_No_True, centers, new_sets)\n",
    "print(\"\")\n",
    "print(\"Military Yes/No Flag:\", Military_Yes_No_True)\n",
    "print(\"\")\n",
    "print(\"Adjusted    Clusters:\", clusters[1])\n",
    "print(\"             Centers:\", centers)\n",
    "print(\"         New Sets[0]:\", new_sets[0])\n",
    "print(\"         New Sets[1]:\", new_sets[1])"
   ]
  },
  {
   "cell_type": "markdown",
   "metadata": {},
   "source": [
    "**Question b.** Determine if convergence occurred after two, five iterations of k-means.\n",
    "\n",
    "**Answer b.** Yes, our k-means algorithm converges to the centroids of two clusters at the second iteration."
   ]
  },
  {
   "cell_type": "markdown",
   "metadata": {},
   "source": [
    "**Question c.** How well did your algorithm cluster military personnel versus non-military personnel?  Construct a confusion matrix, and calculate the Matthews’ Correlation Coefficient (write the code vs using numpy---feel free to check with numpy).\n",
    "\n",
    "The Matthews correlation coefficient (MCC) is used in machine learning as a measure of the quality of binary and multiclass classifications. It takes into account true and false positives and negatives and is generally regarded as a balanced measure which can be used even if the classes are of very different sizes. The MCC is in essence a correlation coefficient value between $-1$ and $+1$. A coefficient of $+1$ represents a perfect prediction, $0$ an average random prediction and $-1$ an inverse prediction. The statistic is also known as the $\\phi$ coefficient. MCC can be computed for Binary and multiclass labels, but only in the binary case does this relate to information about true and false positives and negatives. [source: Wikipedia]\n",
    "\n",
    "**Answer c.** I used python package sklearn.metrics to construct its confusion matrix and calculated its Matthews’ Correlation Coefficient.  As the result shown below, the value of MCC is $1.0$, representing a perfect prediction."
   ]
  },
  {
   "cell_type": "code",
   "execution_count": 11,
   "metadata": {},
   "outputs": [
    {
     "name": "stdout",
     "output_type": "stream",
     "text": [
      "[1, 0, 0, 0, 1, 0, 0, 1, 1, 1]\n"
     ]
    },
    {
     "data": {
      "text/plain": [
       "1.0"
      ]
     },
     "execution_count": 11,
     "metadata": {},
     "output_type": "execute_result"
    }
   ],
   "source": [
    "from sklearn.metrics import matthews_corrcoef\n",
    "Military_pred = clusters[1]\n",
    "print(Military_pred)\n",
    "matthews_corrcoef(Military_Yes_No_True, Military_pred)"
   ]
  },
  {
   "cell_type": "markdown",
   "metadata": {},
   "source": [
    "**Question d.** You selected three features to use in this computation because you determined that they are the three most correlated features with “military” status.  While adding additional features up to a certain point will enhance clustering model accuracy, adding too many features diminishes accuracy.  Explain why this is true."
   ]
  },
  {
   "cell_type": "markdown",
   "metadata": {},
   "source": [
    "**Answer d.** This phenomenon is coined as \"Curse of Dimensionality\", substantiated in both theoretical and practical world.  In the theoretical world, as illustrated in class slide that the distance ($x$) between the center (centroid) the hypercube corners (data points) become unbounded in hyper-dimensional space, thus nearly all of the space occupied by the data points are \"**far away**\" ($x = r \\sqrt{n} \\rightarrow \\infty$ as $n \\rightarrow \\infty$) from any centroid. Unfortunately, this phenomenon of \"Curse of Dimensionality\" is in general true for many machine learning problems, not just for k-means of K-Nearest neighborhood methods.  The class slide also gives a good example - when a measure such as Eclidean distance is defined using many dimensions, there is little difference in the distances between different pairs of samples to the centroids.\n",
    "\n",
    "In practical world, as the Georgia Tech video on \"Curse of Dimensionality\" for machine learning stated that data coverage  is necessary to do learning in order to generalize accurately via a distance or similarity function to the entire space spanned by the additional features. Oftentimes, even in the era of big data, data sparcity problems in the hyper-dimensional space gravely worsens as more and more features get added. Thus adding too many features confuse the learning algorithm and diminishes its accuracy.\n",
    "\n",
    "Additionaly, oftentimes there may exist some correlation among features. As shown in the scatter charts below among the three features, it looks like there exist some degree of linear correlation among these three features: Feature 1 and 2, Feature 1 and 3, and Feature 2 and 3.  These linear relationships indicate that we may be able to model this problem with  reduced features with principal component analysis."
   ]
  },
  {
   "cell_type": "markdown",
   "metadata": {},
   "source": [
    "Now let's instantiate our k-means object, trained on our data set."
   ]
  },
  {
   "cell_type": "code",
   "execution_count": 12,
   "metadata": {},
   "outputs": [
    {
     "data": {
      "text/plain": [
       "Text(0.04, 0.5, 'Feature 2 & Feature 3')"
      ]
     },
     "execution_count": 12,
     "metadata": {},
     "output_type": "execute_result"
    },
    {
     "data": {
      "image/png": "[encoded data removed]",
      "text/plain": [
       "<Figure size 432x432 with 2 Axes>"
      ]
     },
     "metadata": {
      "needs_background": "light"
     },
     "output_type": "display_data"
    }
   ],
   "source": [
    "# Reference: https://matplotlib.org/devdocs/gallery/subplots_axes_and_figures/subplots_demo.html\n",
    "%matplotlib inline\n",
    "import matplotlib.pyplot as plt\n",
    "fig, axs = plt.subplots(nrows=1,ncols=2,sharex=True, sharey=True, figsize=(6, 6))\n",
    "fig.suptitle('Scatter Plot of Feature 1 vs. Feature 2 and 3')\n",
    "\n",
    "axs[0].scatter(np.array(data)[0:,0], np.array(data)[0:,1])\n",
    "axs[1].scatter(np.array(data)[0:,1], np.array(data)[0:,2])\n",
    "\n",
    "fig.text(0.5, 0.04, 'Feature 1', ha='center')\n",
    "fig.text(0.04, 0.5, 'Feature 2 & Feature 3' , va='center', rotation='vertical')\n",
    "#plt.tight_layout()"
   ]
  },
  {
   "cell_type": "code",
   "execution_count": 13,
   "metadata": {},
   "outputs": [
    {
     "data": {
      "text/plain": [
       "Text(0, 0.5, 'Feature 3')"
      ]
     },
     "execution_count": 13,
     "metadata": {},
     "output_type": "execute_result"
    },
    {
     "data": {
      "image/png": "[encoded data removed]",
      "text/plain": [
       "<Figure size 432x288 with 1 Axes>"
      ]
     },
     "metadata": {
      "needs_background": "light"
     },
     "output_type": "display_data"
    }
   ],
   "source": [
    "plt.scatter(np.array(data)[0:,1], np.array(data)[0:,2])\n",
    "plt.suptitle('Scatter Plot of Feature 2 vs. Feature 3')\n",
    "plt.xlabel('Feature 2')\n",
    "plt.ylabel('Feature 3')"
   ]
  },
  {
   "cell_type": "code",
   "execution_count": 14,
   "metadata": {},
   "outputs": [],
   "source": [
    "kmeans = KMeans(n_clusters=2, random_state=0).fit(data)"
   ]
  },
  {
   "cell_type": "markdown",
   "metadata": {},
   "source": [
    "We can use the \"labels\" method to get our data labels.  Each different integer represents a different cluster.  Note that its MCC is 0.816."
   ]
  },
  {
   "cell_type": "code",
   "execution_count": 15,
   "metadata": {},
   "outputs": [
    {
     "name": "stdout",
     "output_type": "stream",
     "text": [
      "Military_Yes_No_True =  [1 0 0 0 1 0 0 1 1 1]\n",
      "Military_pred_kmeans =  [1 1 0 0 1 0 0 1 1 1]\n"
     ]
    },
    {
     "data": {
      "text/plain": [
       "0.816496580927726"
      ]
     },
     "execution_count": 15,
     "metadata": {},
     "output_type": "execute_result"
    }
   ],
   "source": [
    "Military_pred_kmeans = kmeans.labels_\n",
    "print(\"Military_Yes_No_True = \", np.array(Military_Yes_No_True))\n",
    "print(\"Military_pred_kmeans = \", Military_pred_kmeans)\n",
    "matthews_corrcoef(Military_Yes_No_True, Military_pred_kmeans)"
   ]
  },
  {
   "cell_type": "markdown",
   "metadata": {},
   "source": [
    "Do the lables make sense based on our input data?  Go back to the in-class activity and see if the labels are the same.  Note that this algorithm may choose a different label convention (i.e., not 1=Military and 0=Non-Military, like in our example).  What we are interested in is the correct pattern in the label sequence.\n",
    "\n",
    "**Response** Yes, the lables make sense."
   ]
  },
  {
   "cell_type": "markdown",
   "metadata": {},
   "source": [
    "Now let's find our centroids.  Do they match what you calculated where you wrote the code above?"
   ]
  },
  {
   "cell_type": "code",
   "execution_count": 16,
   "metadata": {},
   "outputs": [
    {
     "data": {
      "text/plain": [
       "array([[ 11.5       ,  53.75      , 120.5       ],\n",
       "       [  8.33333333,  24.5       ,  78.66666667]])"
      ]
     },
     "execution_count": 16,
     "metadata": {},
     "output_type": "execute_result"
    }
   ],
   "source": [
    "kmeans.cluster_centers_"
   ]
  },
  {
   "cell_type": "code",
   "execution_count": 17,
   "metadata": {},
   "outputs": [
    {
     "name": "stdout",
     "output_type": "stream",
     "text": [
      "[ 8 24 78] [ 11  54 120]\n",
      "[ 8.33333333 24.5        78.66666667] [ 11.5   53.75 120.5 ]\n",
      "[ 8.33333333 24.5        78.66666667] [ 11.5   53.75 120.5 ]\n",
      "[ 8.33333333 24.5        78.66666667] [ 11.5   53.75 120.5 ]\n",
      "[ 8.33333333 24.5        78.66666667] [ 11.5   53.75 120.5 ]\n",
      "[[0, 1, 2, 3, 4, 5, 6, 7, 8, 9], [0, 0, 1, 1, 0, 1, 1, 0, 0, 0]]\n",
      "[array([ 8.33333333, 24.5       , 78.66666667]), array([ 11.5 ,  53.75, 120.5 ])]\n",
      "[[8, 15, 8, 5, 5, 9], [22, 51, 20, 10, 18, 26], [62, 85, 93, 80, 73, 79]]\n",
      "[[9, 8, 15, 14], [44, 51, 64, 56], [121, 136, 124, 101]]\n"
     ]
    }
   ],
   "source": [
    "centers_2 = np.array([[8,24,78],[11,54,120]])      # Two Centers\n",
    "centers_2, new_sets_2, clusters_2 = user_kmeans(centers_2,data)\n",
    "print(clusters_2)\n",
    "print(centers_2)\n",
    "print(new_sets_2[0])\n",
    "print(new_sets_2[1])"
   ]
  },
  {
   "cell_type": "code",
   "execution_count": 18,
   "metadata": {},
   "outputs": [
    {
     "name": "stdout",
     "output_type": "stream",
     "text": [
      "[ 5 15 10] [10 30 50]\n",
      "[nan nan nan] [ 9.6 36.2 95.4]\n",
      "[ 9.6 36.2 95.4] [nan nan nan]\n",
      "[ 9.6 36.2 95.4] [nan nan nan]\n",
      "[ 9.6 36.2 95.4] [nan nan nan]\n",
      "[[0, 1, 2, 3, 4, 5, 6, 7, 8, 9], [0, 0, 0, 0, 0, 0, 0, 0, 0, 0]]\n",
      "[array([ 9.6, 36.2, 95.4]), array([nan, nan, nan])]\n",
      "[[8, 15, 9, 8, 8, 15, 14, 5, 5, 9], [22, 51, 44, 51, 20, 64, 56, 10, 18, 26], [62, 85, 121, 136, 93, 124, 101, 80, 73, 79]]\n",
      "[[], [], []]\n"
     ]
    },
    {
     "name": "stderr",
     "output_type": "stream",
     "text": [
      "/opt/anaconda3/lib/python3.8/site-packages/numpy/core/fromnumeric.py:3334: RuntimeWarning: Mean of empty slice.\n",
      "  return _methods._mean(a, axis=axis, dtype=dtype,\n",
      "/opt/anaconda3/lib/python3.8/site-packages/numpy/core/_methods.py:153: RuntimeWarning: invalid value encountered in true_divide\n",
      "  ret = um.true_divide(\n"
     ]
    }
   ],
   "source": [
    "# This choice led to a single cluster\n",
    "centers_3 = np.array([[5,15,10],[10,30,50]])      # Two Centers\n",
    "centers_3, new_sets_3, clusters_3 = user_kmeans(centers_3,data)\n",
    "print(clusters_3)\n",
    "print(centers_3)\n",
    "print(new_sets_3[0])\n",
    "print(new_sets_3[1])"
   ]
  },
  {
   "cell_type": "markdown",
   "metadata": {},
   "source": [
    "***Now save your output.  Go to File -> Print Preview and save your final output as a PDF.  Turn in to your Instructor, along with any additional sheets."
   ]
  }
 ],
 "metadata": {
  "kernelspec": {
   "display_name": "Python 3",
   "language": "python",
   "name": "python3"
  },
  "language_info": {
   "codemirror_mode": {
    "name": "ipython",
    "version": 3
   },
   "file_extension": ".py",
   "mimetype": "text/x-python",
   "name": "python",
   "nbconvert_exporter": "python",
   "pygments_lexer": "ipython3",
   "version": "3.8.3"
  }
 },
 "nbformat": 4,
 "nbformat_minor": 2
}
