{
 "cells": [
  {
   "cell_type": "markdown",
   "metadata": {},
   "source": [
    "# Data Science Mathematics\n",
    "# Statistical Inference\n",
    "# In-Class Activity"
   ]
  },
  {
   "cell_type": "markdown",
   "metadata": {},
   "source": [
    "Instructions: Solve each problem. Show all work.\n",
    "\n",
    "Problem Context: You are a data scientist developing an algorithm for Russian event detection on Twitter, and are testing your algorithm using the 2018 Russian election as your test event.  You are interested in discursive similarity over time (proceeding by argument or reasoning rather than by intuition)– the day-to-day similarity of discussion topics – within a target group of Twitter users.  You assume that, given the amount of “noise” on Twitter (e.g., the high variability of topics discussed on any ordinary day), your similarity metric will be near zero.  However, if a significant event occurs that becomes a hot topic of discussion, you hypothesize that your similarity metric will significantly increase for that given timeframe.  You have collected discursive similarity data that bracket the test event, and want to determine if an anomaly has occurred on the date of the Russian election, 18 March 2018.\n",
    "\n",
    "Consider the Excel data set on github/Blackboard.  You will solve this by hand, as well as using Python.  When solving by hand, you may use Excel to calculate any descriptive statistics.  To infer any statistically significant difference from a specified value, the t-statistic can be calculated as follows:\n",
    "\n",
    "$$t = \\frac{\\bar{x}-\\mu_0}{\\frac{s}{\\sqrt{n}}}$$\n",
    "\n",
    "Where $s$ is the sample standard deviation, $\\mu_0$ is the specified value, $n$ is the sample size, and $\\bar{x}$ is the sample mean.\n",
    "\n",
    "**a)** What is your null hypothesis?  Explain what rejection of the null hypothesis means in terms of statistical inference.\n",
    "\n",
    "**Response** Our Null Hypothesis $H_0$ is \"The sample mean of the similarity metric of the collected discursive similarity data that brackets the test event at given timeframe is equal to the population mean of the similarity metric of the test event (i.e., an anomaly has occurred on the date of the Russian election, 18 March 2018.)\n",
    "\n",
    "In terms of statistical inference, the rejection of our null hypothesis means that the extreme observation of the test event (i.e., an anomaly occurred on the date of the Russian election, 18 March 2018) is just due to chance, or its occurrence probability is less than or equal to the level of confidence, $\\alpha$, which is typically set to $5\\%$.\n",
    "\n",
    "**b)** Are you able to detect an anomalous event on 18 March 2018, given the above data set, and assuming a type I error rate of $5%$?  Explain why or why not.\n",
    "\n",
    "**Response** No, I am unable to detect an anomalous event on 18 March 2018 with the given data set at type I error rate of $5\\%$.  This is because the frequency of non-test-event (i.e., the day-to-day discussion topics on any ordinary day) is much larger than that of the test-event (i.e. a hot topic of discussion such as Russian election), and consequently the contribution/influence of much larger similarity metrics of the rather rare test events to both mean and standard deviation of the distribution will be washed away by the much larger frequency of the non-test-events.\n",
    "\n",
    "**c)** Find the p-value using Python (see Python notebook for this exercise).  Do you reject your hypothesis based on the calculated p-value?\n",
    "\n",
    "**Response** Yes, we will reject the null hypothesis because the calculated p-value is eseentially equal to 0, thus it is much smaller than the type I error rate of $5\\%$.  In plain words, this method of t-test does not help us detect the existence of an anomalous event known to occur on 18 March 2018.\n",
    "\n",
    "**d)** Calculate by hand again assuming a type I error rate of 1%.  What happens to the critical value of t?  Intuitively, why is this the case?  Does this change impact your conclusion?\n",
    "\n",
    "Let's calculate a p-value for our data set.  First, let's import the relevant libraries."
   ]
  },
  {
   "cell_type": "code",
   "execution_count": 1,
   "metadata": {},
   "outputs": [],
   "source": [
    "import pandas as pd\n",
    "import numpy as np\n",
    "from scipy import stats\n",
    "from matplotlib import pyplot"
   ]
  },
  {
   "cell_type": "markdown",
   "metadata": {},
   "source": [
    "Now, let's import our data set.  You need to specify the absolute path of the data set (Dataset_Session5.csv).\n",
    "\n",
    "We can visualize similarity metrics data as a histogram, which groups values into bins, and its frequency or count of observations in each bin can provide insight into the underlying distribution of the observations.\n",
    "\n",
    "The histogram chart shows two deparate parts:\n",
    " - one part has a dominating portion of our similarity metric data nearing zeroes, or smaller than 0.1, and\n",
    " - another part has two data points with significantly increased magnitude of similarity metric at close to 0.8 or higher , suggesting a occurrence of significant event that becomes a hot topic of discussion at certain timeframe."
   ]
  },
  {
   "cell_type": "code",
   "execution_count": 2,
   "metadata": {},
   "outputs": [
    {
     "data": {
      "image/png": "[encoded data removed]",
      "text/plain": [
       "<Figure size 432x288 with 1 Axes>"
      ]
     },
     "metadata": {
      "needs_background": "light"
     },
     "output_type": "display_data"
    }
   ],
   "source": [
    "dataset = r'Dataset_Session5.csv' #Specify absolute path here.\n",
    "data = pd.read_csv(dataset)\n",
    "# print(data)\n",
    "# Visualize similarity metrics data\n",
    "data.hist(bins=30)\n",
    "pyplot.show()"
   ]
  },
  {
   "cell_type": "markdown",
   "metadata": {},
   "source": [
    "Now, let's get the data we want in the correct format: a Numpy array."
   ]
  },
  {
   "cell_type": "code",
   "execution_count": 3,
   "metadata": {},
   "outputs": [
    {
     "name": "stdout",
     "output_type": "stream",
     "text": [
      "[6.140e-02 9.130e-02 3.680e-02 2.130e-02 9.800e-03 1.610e-02 4.840e-02\n",
      " 3.940e-02 5.610e-02 1.000e-01 6.830e-02 8.730e-02 6.270e-02 6.670e-02\n",
      " 5.720e-02 5.310e-02 1.490e-02 3.810e-02 6.220e-02 9.620e-02 7.740e-02\n",
      " 7.600e-02 1.220e-02 6.950e-02 1.830e-02 4.270e-02 8.440e-02 3.700e-03\n",
      " 8.965e-01 7.814e-01 1.480e-02 7.430e-02 7.620e-02 8.510e-02 8.680e-02\n",
      " 8.590e-02 2.210e-02 4.120e-02 1.390e-02 1.760e-02 7.000e-04 2.230e-02\n",
      " 7.530e-02 5.250e-02 3.050e-02 1.560e-02 3.590e-02 1.420e-02 9.230e-02\n",
      " 9.160e-02 9.250e-02 2.950e-02 8.510e-02 9.050e-02 3.970e-02 6.470e-02\n",
      " 1.740e-02 4.300e-03 1.190e-02 1.300e-02]\n"
     ]
    }
   ],
   "source": [
    "data_series = np.array(list(data['Similarity Metric (0.00-1.00)']))\n",
    "print(data_series)"
   ]
  },
  {
   "cell_type": "markdown",
   "metadata": {},
   "source": [
    "Now we can calculate some descriptive statistics."
   ]
  },
  {
   "cell_type": "code",
   "execution_count": 22,
   "metadata": {},
   "outputs": [
    {
     "name": "stdout",
     "output_type": "stream",
     "text": [
      "average =  0.07577999999999999\n",
      "stdev   =  0.14518890774895077\n"
     ]
    }
   ],
   "source": [
    "#mean and standard deviation\n",
    "m = np.average(data_series)\n",
    "sd = np.std(data_series)\n",
    "print('average = ', m)\n",
    "print('stdev   = ', sd)"
   ]
  },
  {
   "cell_type": "markdown",
   "metadata": {},
   "source": [
    "Now print the values in the cell below:"
   ]
  },
  {
   "cell_type": "markdown",
   "metadata": {},
   "source": [
    "At first glance, does it look like our value on 18 March 2018 is much different from the mean?  Yes, it does.\n",
    "\n",
    "We know that on 18 March 2018, our value is 0.8965.  We are performing a one-sample t-test in this case to see if our value at that date is anomalous.  We will take that sample to be the \"population mean,\" in this case. "
   ]
  },
  {
   "cell_type": "code",
   "execution_count": 24,
   "metadata": {},
   "outputs": [],
   "source": [
    "pop_mean = 0.8965"
   ]
  },
  {
   "cell_type": "markdown",
   "metadata": {},
   "source": [
    "So let's calculate our t statistic and our two-tailed p-value."
   ]
  },
  {
   "cell_type": "code",
   "execution_count": 25,
   "metadata": {},
   "outputs": [],
   "source": [
    "t, p = stats.ttest_1samp(data_series, pop_mean, axis=0)\n",
    "# print(t, p)"
   ]
  },
  {
   "cell_type": "markdown",
   "metadata": {},
   "source": [
    "Now let's print our results."
   ]
  },
  {
   "cell_type": "code",
   "execution_count": 26,
   "metadata": {},
   "outputs": [
    {
     "name": "stdout",
     "output_type": "stream",
     "text": [
      "t statistic: -43.41977659265283\n",
      "p-value    : 1.749492641970814e-46\n"
     ]
    }
   ],
   "source": [
    "t_str = \"t statistic: {}\".format(t)\n",
    "p_str = \"p-value    : {}\".format(p)\n",
    "print(t_str)\n",
    "print(p_str)"
   ]
  },
  {
   "cell_type": "markdown",
   "metadata": {},
   "source": [
    "Do we reject the null hypothesis?\n",
    "\n",
    "**Response:** Yes, we will rejet the null hypothesis because its p-value is less than the level of confidence, $5\\%$. We will rejet the null hypothesis at the $1\\%$ level of confidence as well because its p-value is essentially equal to $0$. "
   ]
  },
  {
   "cell_type": "markdown",
   "metadata": {},
   "source": [
    "We remark that this anonamous event at that date(s) could be easily detected (or clustered into one cluster) from applying the k-means algorithm developed from last class activity."
   ]
  },
  {
   "cell_type": "markdown",
   "metadata": {},
   "source": [
    "***Now save your output.  Go to File -> Print Preview and save your final output as a PDF.  Turn in to your Instructor, along with any additional sheets."
   ]
  }
 ],
 "metadata": {
  "kernelspec": {
   "display_name": "Python 3",
   "language": "python",
   "name": "python3"
  },
  "language_info": {
   "codemirror_mode": {
    "name": "ipython",
    "version": 3
   },
   "file_extension": ".py",
   "mimetype": "text/x-python",
   "name": "python",
   "nbconvert_exporter": "python",
   "pygments_lexer": "ipython3",
   "version": "3.8.3"
  }
 },
 "nbformat": 4,
 "nbformat_minor": 2
}
