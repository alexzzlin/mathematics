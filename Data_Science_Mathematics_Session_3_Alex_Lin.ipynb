{
 "cells": [
  {
   "cell_type": "markdown",
   "metadata": {},
   "source": [
    "# Data Science Mathematics\n",
    "# Simple Linear Regression\n",
    "# In-Class Activity"
   ]
  },
  {
   "cell_type": "markdown",
   "metadata": {},
   "source": [
    "Refer to your class handout for background information."
   ]
  },
  {
   "cell_type": "code",
   "execution_count": 1,
   "metadata": {},
   "outputs": [],
   "source": [
    "import numpy as np\n",
    "from scipy import stats"
   ]
  },
  {
   "cell_type": "markdown",
   "metadata": {},
   "source": [
    "#### Question 1:  \n",
    "\n",
    "You have collected data on Chinese activity in the South China Sea that you believe are correlated.  You suspect that the presence of Chinese submarines within the region is related to an increase in observed cyber activity.\n",
    "\n",
    " | Submarine Sightings | Cyber Activity Metric |\n",
    " |:-:|:-:|\n",
    " |1 | 0.021025 |\n",
    " |2 | 0.022103 |\n",
    " |3 | 0.023237 |\n",
    " |4 | 0.024428 |\n",
    " |5 | 0.025681 |\n",
    " |6 | 0.026997 |\n",
    " |7 | 0.028381 |\n",
    " |8 | 0.029836 |\n",
    " |9 | 0.031366 |\n",
    " |10 | 0.032974 |\n",
    " \n",
    "Let's instantiate the data set."
   ]
  },
  {
   "cell_type": "code",
   "execution_count": 2,
   "metadata": {},
   "outputs": [],
   "source": [
    "submarine_sightings = np.array([1,2,3,4,5,6,7,8,9,10])\n",
    "cyber_activity_metric = np.array([0.021025,0.022103,0.023237,0.024428,0.025681,0.026997,0.028381,0.029836,0.031366,0.032974])"
   ]
  },
  {
   "cell_type": "markdown",
   "metadata": {},
   "source": [
    "Now, let's calculate our regression values."
   ]
  },
  {
   "cell_type": "code",
   "execution_count": 3,
   "metadata": {},
   "outputs": [],
   "source": [
    "slope, intercept, r_value, p_value, std_err = stats.linregress(submarine_sightings,cyber_activity_metric)"
   ]
  },
  {
   "cell_type": "code",
   "execution_count": 4,
   "metadata": {},
   "outputs": [
    {
     "data": {
      "text/plain": [
       "(0.001324557575757576,\n",
       " 0.019317733333333337,\n",
       " 0.9980126947882119,\n",
       " 6.807697897873586e-11,\n",
       " 2.9567948236252566e-05)"
      ]
     },
     "execution_count": 4,
     "metadata": {},
     "output_type": "execute_result"
    }
   ],
   "source": [
    "slope, intercept, r_value, p_value, std_err"
   ]
  },
  {
   "cell_type": "markdown",
   "metadata": {},
   "source": [
    "Next, print the R^2 value.  How good is your fit?"
   ]
  },
  {
   "cell_type": "code",
   "execution_count": 5,
   "metadata": {},
   "outputs": [
    {
     "name": "stdout",
     "output_type": "stream",
     "text": [
      "r-squared: 0.9960293389584285\n"
     ]
    }
   ],
   "source": [
    "print('r-squared:', r_value**2)"
   ]
  },
  {
   "cell_type": "code",
   "execution_count": 6,
   "metadata": {},
   "outputs": [
    {
     "data": {
      "text/plain": [
       "Text(0, 0.5, 'cyber activity metric (%)')"
      ]
     },
     "execution_count": 6,
     "metadata": {},
     "output_type": "execute_result"
    },
    {
     "data": {
      "image/png": "[encoded data removed]",
      "text/plain": [
       "<Figure size 432x288 with 1 Axes>"
      ]
     },
     "metadata": {
      "needs_background": "light"
     },
     "output_type": "display_data"
    }
   ],
   "source": [
    "%matplotlib inline\n",
    "import matplotlib.pyplot as plt\n",
    "plt.plot(submarine_sightings, cyber_activity_metric)\n",
    "plt.xlabel('Tsubmarine sightings (#)')\n",
    "plt.ylabel('cyber activity metric (%)')"
   ]
  },
  {
   "cell_type": "markdown",
   "metadata": {},
   "source": [
    "The relationship between $'submarine \\ sightings'$ and $'cyber \\ activity \\ metric'$ looks very linear.  We may be able to take natural logarithm of each $'cyber \\ activity \\ metric'$ value to transform the slightly curve into a straight line.  We can experiment this natural logarithm transformation at the end of this in-class activity."
   ]
  },
  {
   "cell_type": "markdown",
   "metadata": {},
   "source": [
    "### Question 1:  Solve Linear Regression Problem\n",
    "\n",
    "**1.a** Calculate the sample correlation coefficient.\n",
    " \n",
    "#### Answer for Question 1.a"
   ]
  },
  {
   "cell_type": "code",
   "execution_count": 7,
   "metadata": {},
   "outputs": [
    {
     "name": "stdout",
     "output_type": "stream",
     "text": [
      "1.a Sample Correlation Coeffeicient =  0.998\n"
     ]
    }
   ],
   "source": [
    "##Calculate the correlation coeffeicient in one line using numpy \n",
    "cocoeff = np.corrcoef(submarine_sightings,cyber_activity_metric)\n",
    "print(\"1.a Sample Correlation Coeffeicient = \", round(cocoeff[0,1],3))"
   ]
  },
  {
   "cell_type": "markdown",
   "metadata": {},
   "source": [
    "**1.b** Calculate the parameters $\\alpha = 0.019315$ and $\\beta = 0.001325$."
   ]
  },
  {
   "cell_type": "code",
   "execution_count": 8,
   "metadata": {},
   "outputs": [
    {
     "name": "stdout",
     "output_type": "stream",
     "text": [
      "cov_eqn =  0.012142  ===  cov_numpy[0][1] =  0.012142\n",
      "alpha_hat =  0.019315       beta_hat =  0.001325\n"
     ]
    }
   ],
   "source": [
    "# Answer for Question 1.b\n",
    "# y = mx+ b\n",
    "x_bar = np.mean(submarine_sightings)\n",
    "y_bar = np.mean(cyber_activity_metric)\n",
    "S_y = np.std(cyber_activity_metric, ddof=1)\n",
    "x_var = np.var(submarine_sightings, ddof=1)\n",
    "\n",
    "sigma_xy = 0\n",
    "for i in range(len(submarine_sightings)): \n",
    "    sigma_xy += ((submarine_sightings[i] - x_bar)*(cyber_activity_metric[i] - y_bar))\n",
    "\n",
    "cov_eqn = sigma_xy/(len(submarine_sightings)-1)\n",
    "\n",
    "#covarainnce the short way\n",
    "# Build a list so numpy can process, xandy\n",
    "xandy = [submarine_sightings,cyber_activity_metric]\n",
    "cov_numpy = np.cov(xandy)\n",
    "#print(cov_numpy[0][1], cov_eqn)\n",
    "print(\"cov_eqn = \", round(cov_eqn,6) , \" === \", \"cov_numpy[0][1] = \", round(cov_numpy[0][1],6))\n",
    "\n",
    "beta_hat = round(cov_eqn/x_var,6)\n",
    "# alpha_hat = y_bar - beta_hat * x_bar\n",
    "alpha_hat = round(y_bar - beta_hat * x_bar,6)\n",
    "\n",
    "print(\"alpha_hat = \", alpha_hat, \"     \", \"beta_hat = \", beta_hat)"
   ]
  },
  {
   "cell_type": "code",
   "execution_count": 9,
   "metadata": {},
   "outputs": [
    {
     "data": {
      "image/png": "[encoded data removed]",
      "text/plain": [
       "<Figure size 432x288 with 1 Axes>"
      ]
     },
     "metadata": {
      "needs_background": "light"
     },
     "output_type": "display_data"
    }
   ],
   "source": [
    "# Create a list of values in the best fit line\n",
    "abline_values = [alpha_hat + beta_hat * i for i in submarine_sightings]\n",
    "\n",
    "# Plot the best fit line over the actual values\n",
    "plt.plot(submarine_sightings, cyber_activity_metric, '--')\n",
    "plt.xlabel('Tsubmarine sightings (#)')\n",
    "plt.ylabel('cyber activity metric (%)')\n",
    "plt.plot(submarine_sightings, abline_values, 'r')\n",
    "plt.title(beta_hat)\n",
    "plt.show()"
   ]
  },
  {
   "cell_type": "markdown",
   "metadata": {},
   "source": [
    "**1.c** Does a linear relationship exist between these data sets?  How do you know?\n",
    "\n",
    "#### Answer for Question 1.c\n",
    "\n",
    "Yes, there exists a linear relationship in the ranges between these twenty data points, because their sample correlation coeffeicient is 0.998, incdicating their relationship is almost at the level of perfect linear, as displayed with the red solid line.\n",
    "\n",
    "**1.d** Based on your calculations, is there a correlative relationship between cyber activity and submarines within the region?\n",
    "\n",
    "#### Answer for Question 1.d\n",
    "\n",
    "The calculations seem to suggest that there exists a correlative relationship between $cyber\\ activity$ and $number\\ of\\ submarines$ within the region, but this $correlation$ might be in effect via the third variable, a confoundering variable, causing a spurious linearly association between these two data sets. For example, there might exist strong linear correlationshp between the sale volume of ice scream and the number of deaths due to drowning in the summer time.  The confounding variable might be the high temperature in the summer as people tend to buy and eat ice scream more and go to beach or swimming pools during the hot summer times. Therefore, whenever possible, more data or evidence from different and independent perspectives or dimensions will be needed to examine and understand such associations."
   ]
  },
  {
   "cell_type": "markdown",
   "metadata": {},
   "source": [
    "### Question 2 Solve the Gradient Descent Problem\n",
    "\n",
    "You are developing a convolutional neural network for identifying Chinese military images on social media.  Your loss function and gradient functions are:\n",
    "\n",
    "$$ f(m, b) = m^2 + b^2 $$\n",
    "\n",
    "$$ \\nabla f(m,b) = [2m, 2b] $$\n",
    "\n",
    "Let $a_n$ represent a given $(m,b)$ coordinate pair. The gradient descent formula is defined as:\n",
    "\n",
    "$$ a_{n+1} = a_n - \\gamma \\nabla f(a_n) $$\n",
    "\n",
    "Answer the following questions:\n",
    "\n",
    "a.Using a learning rate of 0.1, calculate the first 5 gradient descent iterations, beginning at (1,5). Did your model converge?\n",
    "\n",
    "b.Increase the learning rate to 0.5, and repeat step a. Does your model converge?\n",
    "\n",
    "c.Explain the significance of the learning rate. Did it have an impact on the convergence of your model?"
   ]
  },
  {
   "cell_type": "code",
   "execution_count": 10,
   "metadata": {},
   "outputs": [],
   "source": [
    "def solve_gradient_problem(step_size, iteration):\n",
    "    tests_list = []\n",
    "    #step = 0.1\n",
    "    #step_list = [0.1, 0.2, 0.3, 0.4, 0.5]\n",
    "    #for step_size in step_list:\n",
    "    pos = [1,5,1**2+5**2] #f(m,b) = m**2 + b**2)\n",
    "    iters_list = [] #\"Step 0\",[pos[0],pos[1],pos[2]]]\n",
    "    iters_list.append([\"Step 0\",[pos[0],pos[1],pos[2]]])\n",
    "    tests = {}\n",
    "    for i in range(iteration):\n",
    "        pos[0] = round((pos[0] - (step_size * 2 * pos[0])),6)\n",
    "        pos[1] = round((pos[1] - (step_size * 2 * pos[1])),6)\n",
    "        pos[2] = round((pos[0]**2 + pos[1]**2),6)\n",
    "\n",
    "        iters_list.append([\"Step \"+str(i+1),[pos[0],pos[1],pos[2]]])\n",
    "        #print(\"Step {}\".format(i))\n",
    "        #print (pos)\n",
    "        #print (\"\\n\")\n",
    "    tests = {'step_size': step_size, 'test': iters_list}\n",
    "    tests_list.append(tests)\n",
    "    return tests_list[0]['test'] # Has the results for the Learning rate of 0.1"
   ]
  },
  {
   "cell_type": "code",
   "execution_count": 11,
   "metadata": {},
   "outputs": [
    {
     "name": "stdout",
     "output_type": "stream",
     "text": [
      "step size = 0.1\n"
     ]
    },
    {
     "data": {
      "text/plain": [
       "[['Step 0', [1, 5, 26]],\n",
       " ['Step 1', [0.8, 4.0, 16.64]],\n",
       " ['Step 2', [0.64, 3.2, 10.6496]],\n",
       " ['Step 3', [0.512, 2.56, 6.815744]],\n",
       " ['Step 4', [0.4096, 2.048, 4.362076]],\n",
       " ['Step 5', [0.32768, 1.6384, 2.791729]],\n",
       " ['Step 6', [0.262144, 1.31072, 1.786706]],\n",
       " ['Step 7', [0.209715, 1.048576, 1.143492]],\n",
       " ['Step 8', [0.167772, 0.838861, 0.731835]],\n",
       " ['Step 9', [0.134218, 0.671089, 0.468375]],\n",
       " ['Step 10', [0.107374, 0.536871, 0.29976]]]"
      ]
     },
     "execution_count": 11,
     "metadata": {},
     "output_type": "execute_result"
    }
   ],
   "source": [
    "print('step size = 0.1')\n",
    "solve_gradient_problem(0.1,10)"
   ]
  },
  {
   "cell_type": "markdown",
   "metadata": {},
   "source": [
    "**Answer 1.a** Yes, using a learning rate of 0.1, the value of the loss function seems decreasing montonically, starting with 26 and ending with 2.791729 at Step 5. However, it will take more than 30 steps to get to the anticipated optimal solutions of (0,0) for the loss function of 0."
   ]
  },
  {
   "cell_type": "code",
   "execution_count": 12,
   "metadata": {},
   "outputs": [
    {
     "name": "stdout",
     "output_type": "stream",
     "text": [
      "step size = 0.5\n"
     ]
    },
    {
     "data": {
      "text/plain": [
       "[['Step 0', [1, 5, 26]],\n",
       " ['Step 1', [0.0, 0.0, 0.0]],\n",
       " ['Step 2', [0.0, 0.0, 0.0]],\n",
       " ['Step 3', [0.0, 0.0, 0.0]],\n",
       " ['Step 4', [0.0, 0.0, 0.0]],\n",
       " ['Step 5', [0.0, 0.0, 0.0]],\n",
       " ['Step 6', [0.0, 0.0, 0.0]],\n",
       " ['Step 7', [0.0, 0.0, 0.0]],\n",
       " ['Step 8', [0.0, 0.0, 0.0]],\n",
       " ['Step 9', [0.0, 0.0, 0.0]],\n",
       " ['Step 10', [0.0, 0.0, 0.0]]]"
      ]
     },
     "execution_count": 12,
     "metadata": {},
     "output_type": "execute_result"
    }
   ],
   "source": [
    "print('step size = 0.5')\n",
    "solve_gradient_problem(0.5,10)"
   ]
  },
  {
   "cell_type": "markdown",
   "metadata": {},
   "source": [
    "**Answer 1.b** Yes, using a learning rate of 0.5, it takes only one step to get the value of the loss function to the anticipated optimal solutions of (0,0) for the loss function of 0.  With a learning rate of 0.95, the value of the loss function seems oscillating but its absolute values seem decreasing montonically, starting with 26 and ending with -0.59049 at Step 5. However, it will take more than 70 steps to get to the anticipated optimal solutions of (0,0) for the loss function of 0. "
   ]
  },
  {
   "cell_type": "code",
   "execution_count": 13,
   "metadata": {},
   "outputs": [
    {
     "name": "stdout",
     "output_type": "stream",
     "text": [
      "step size = 0.95\n"
     ]
    },
    {
     "data": {
      "text/plain": [
       "[['Step 0', [1, 5, 26]],\n",
       " ['Step 1', [-0.9, -4.5, 21.06]],\n",
       " ['Step 2', [0.81, 4.05, 17.0586]],\n",
       " ['Step 3', [-0.729, -3.645, 13.817466]],\n",
       " ['Step 4', [0.6561, 3.2805, 11.192147]],\n",
       " ['Step 5', [-0.59049, -2.95245, 9.065639]],\n",
       " ['Step 6', [0.531441, 2.657205, 7.343168]],\n",
       " ['Step 7', [-0.478297, -2.391484, 5.947964]],\n",
       " ['Step 8', [0.430467, 2.152336, 4.817852]],\n",
       " ['Step 9', [-0.38742, -1.937102, 3.902458]],\n",
       " ['Step 10', [0.348678, 1.743392, 3.160992]]]"
      ]
     },
     "execution_count": 13,
     "metadata": {},
     "output_type": "execute_result"
    }
   ],
   "source": [
    "print('step size = 0.95')\n",
    "solve_gradient_problem(0.95,10)"
   ]
  },
  {
   "cell_type": "markdown",
   "metadata": {},
   "source": [
    "**Answer 1.c** The size of the learning rate did have an impact on the convergence of the model.  In general, the larger the learning rate, the faster the model will converge.  But when the learning rate is too large, the gain for the convergence diminishes, and may come with the risk of overshooting the optimal parameters that minimize the loss function."
   ]
  },
  {
   "cell_type": "markdown",
   "metadata": {},
   "source": [
    "### Test Problem 3: Linearize an exponential function"
   ]
  },
  {
   "cell_type": "code",
   "execution_count": 14,
   "metadata": {},
   "outputs": [
    {
     "data": {
      "text/plain": [
       "[-3.8620430731231252,\n",
       " -3.812041933064832,\n",
       " -3.7620094431106614,\n",
       " -3.712025263621249,\n",
       " -3.6620038601085816,\n",
       " -3.612029530262216,\n",
       " -3.562035371789269,\n",
       " -3.51203956088922,\n",
       " -3.462030775269904,\n",
       " -3.4120359068431503]"
      ]
     },
     "execution_count": 14,
     "metadata": {},
     "output_type": "execute_result"
    }
   ],
   "source": [
    "# Linearize y\n",
    "ln_y = []\n",
    "for cam in cyber_activity_metric: \n",
    "    ln_y.append(np.log(cam))\n",
    "ln_y"
   ]
  },
  {
   "cell_type": "code",
   "execution_count": 15,
   "metadata": {},
   "outputs": [
    {
     "data": {
      "text/plain": [
       "Text(0, 0.5, 'ln(cyber activity metric)')"
      ]
     },
     "execution_count": 15,
     "metadata": {},
     "output_type": "execute_result"
    },
    {
     "data": {
      "image/png": "[encoded data removed]",
      "text/plain": [
       "<Figure size 432x288 with 1 Axes>"
      ]
     },
     "metadata": {
      "needs_background": "light"
     },
     "output_type": "display_data"
    }
   ],
   "source": [
    "plt.plot(submarine_sightings,ln_y)\n",
    "plt.xlabel('Tsubmarine sightings (#)')\n",
    "plt.ylabel('ln(cyber activity metric)')"
   ]
  },
  {
   "cell_type": "code",
   "execution_count": 16,
   "metadata": {},
   "outputs": [
    {
     "name": "stdout",
     "output_type": "stream",
     "text": [
      "1.a Sample Correlation Coeffeicient =  1.0\n"
     ]
    }
   ],
   "source": [
    "cocoeff_ln_y = np.corrcoef(submarine_sightings,ln_y)\n",
    "print(\"1.a Sample Correlation Coeffeicient = \", round(cocoeff_ln_y[0,1],4))"
   ]
  },
  {
   "cell_type": "markdown",
   "metadata": {},
   "source": [
    "After taking natural logarithm transformation over the values of cyber activity metric, the slightly curve is transformed into a perfect straight line between $submarine\\ sightings$ and logarithmed $cyber\\ activity\\ metric$."
   ]
  },
  {
   "cell_type": "code",
   "execution_count": 17,
   "metadata": {},
   "outputs": [
    {
     "name": "stdout",
     "output_type": "stream",
     "text": [
      "alpha_hat =  -3.912029       beta_hat =  0.05       coeff =  0.02\n"
     ]
    }
   ],
   "source": [
    "x_bar = np.mean(submarine_sightings)\n",
    "y_bar = np.mean(ln_y)\n",
    "S_y = np.std(ln_y, ddof=1)\n",
    "x_var = np.var(submarine_sightings, ddof=1)\n",
    "sigma_xy = 0\n",
    "for i in range(len(submarine_sightings)): \n",
    "    sigma_xy += ((submarine_sightings[i] - x_bar)*(ln_y[i] - y_bar))\n",
    "\n",
    "cov = sigma_xy/(len(submarine_sightings)-1)\n",
    "#covarainnce the short way\n",
    "xandy = [submarine_sightings,ln_y]\n",
    "# print(\"Format list so numpy can process\", xandy)\n",
    "cov2 = np.cov(xandy)\n",
    "beta_hat = round(cov/x_var,6)\n",
    "# alpha_hat = y_bar - beta_hat * x_bar\n",
    "alpha_hat = round(y_bar - beta_hat * x_bar,6)\n",
    "\n",
    "#de linearize: \n",
    "coeff_lny = round(np.exp(alpha_hat),4)\n",
    "coeff_lny\n",
    "print(\"alpha_hat = \", alpha_hat, \"     \", \"beta_hat = \", beta_hat, \"     \", \"coeff = \", coeff_lny)"
   ]
  },
  {
   "cell_type": "code",
   "execution_count": 18,
   "metadata": {},
   "outputs": [
    {
     "name": "stdout",
     "output_type": "stream",
     "text": [
      "xy_new[0] [1, 0.021025]    xy_given[0] [1, 0.021025]\n",
      "xy_new[1] [2, 0.022103]    xy_given[1] [2, 0.022103]\n",
      "xy_new[2] [3, 0.023237]    xy_given[2] [3, 0.023237]\n",
      "xy_new[3] [4, 0.024428]    xy_given[3] [4, 0.024428]\n",
      "xy_new[4] [5, 0.025681]    xy_given[4] [5, 0.025681]\n",
      "xy_new[5] [6, 0.026997]    xy_given[5] [6, 0.026997]\n",
      "xy_new[6] [7, 0.028381]    xy_given[6] [7, 0.028381]\n",
      "xy_new[7] [8, 0.029836]    xy_given[7] [8, 0.029836]\n",
      "xy_new[8] [9, 0.031366]    xy_given[8] [9, 0.031366]\n",
      "xy_new[9] [10, 0.032974]    xy_given[9] [10, 0.032974]\n"
     ]
    }
   ],
   "source": [
    "import math\n",
    "xy_given = []\n",
    "xy_new = []\n",
    "for i in range(10):\n",
    "    xy_new.append([i+1,round(coeff_lny*math.exp(beta_hat*(i+1)),6)])\n",
    "    xy_given.append([submarine_sightings[i], cyber_activity_metric[i]] )\n",
    "    print(\"xy_new[{}]\".format(i),xy_new[i],\"  \",\"xy_given[{}]\".format(i),xy_given[i])\n",
    "\n",
    "#print(xy_new)\n",
    "#print(xy_given)"
   ]
  },
  {
   "cell_type": "markdown",
   "metadata": {},
   "source": [
    "***Now save your output.  Go to File -> Print Preview and save your final output as a PDF.  Turn in to your Instructor, along with any additional sheets."
   ]
  }
 ],
 "metadata": {
  "kernelspec": {
   "display_name": "Python 3",
   "language": "python",
   "name": "python3"
  },
  "language_info": {
   "codemirror_mode": {
    "name": "ipython",
    "version": 3
   },
   "file_extension": ".py",
   "mimetype": "text/x-python",
   "name": "python",
   "nbconvert_exporter": "python",
   "pygments_lexer": "ipython3",
   "version": "3.8.3"
  }
 },
 "nbformat": 4,
 "nbformat_minor": 2
}
