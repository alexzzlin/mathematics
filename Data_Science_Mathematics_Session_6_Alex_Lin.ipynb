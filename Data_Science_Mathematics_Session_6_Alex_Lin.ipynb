{
 "cells": [
  {
   "cell_type": "markdown",
   "metadata": {},
   "source": [
    "# Data Science Mathematics\n",
    "# Principal Component Analysis\n",
    "# In-Class Activity"
   ]
  },
  {
   "cell_type": "markdown",
   "metadata": {},
   "source": [
    "Refer to your in-class handout for instructions.  You are going to do most of the coding yourself here.\n",
    "\n",
    "**Question 5)** You are a data scientist at a three-letter agency.  You have been following a group of suspected ISIL members on social media, and have derived 4 features from various profiles.  You are developing a supervised learning algorithm for identifying ISIL members based on these features, and need to project your data onto two dimensions for clustering analysis.\n",
    "\n",
    " | Feature 1 | Feature 2 | Feature 3 | Feature 4 |\n",
    " |-----------|-----------|-----------|-----------|\n",
    " |5.1 | 3.5 | 1.4 | 0.2 |\n",
    " |4.9 | 3.0 | 1.4 | 0.2 |\n",
    " |4.7 | 3.2 | 1.3 | 0.2 |\n",
    " |4.6 | 3.1 | 1.5 | 0.2 |\n",
    " |5.0 | 3.6 | 1.4 | 0.2 |\n",
    " |5.4 | 3.9 | 1.7 | 0.4 |\n",
    " |4.6 | 3.4 | 1.4 | 0.3 |\n",
    " |5.0 | 3.4 | 1.5 | 0.2 |\n",
    " |4.4 | 2.9 | 1.4 | 0.2 |\n",
    " |4.9 | 3.1 | 1.5 | 0.1 |\n",
    " |5.4 | 3.7 | 1.5 | 0.2 |\n",
    " |4.8 | 3.4 | 1.6 | 0.2 |\n",
    " |4.8 | 3.0 | 1.4 | 0.1 |\n",
    " |4.3 | 3.0 | 1.1 | 0.1 |\n",
    " |5.8 | 4.0 | 1.2 | 0.2 |\n",
    " |5.7 | 4.4 | 1.5 | 0.4 |\n",
    " |5.4 | 3.9 | 1.3 | 0.4 |\n",
    " |5.1 | 3.5 | 1.4 | 0.3 |\n",
    " |5.7 | 3.8 | 1.7 | 0.3 |\n",
    " |5.1 | 3.8 | 1.5 | 0.3 |\n",
    "\n",
    "\n",
    "a) [Derive a covariance matrix from this data set.](#question_a)\n",
    "\n",
    "b) [Calculate the feature vector of eigenvalues from the covariance matrix.](#question_b)\n",
    "\n",
    "c) [Project the dataset into the appropriate principle component space.](#question_c)\n",
    "\n",
    "d) [Assuming the class of each record is known, explain how this reduced data set could be used to derive a supervised learning algorithm based on clustering.](#question_d)\n",
    "\n",
    "e) [BONUS: Figure out how to plot your 2D principal components as a scatter plot :](#question_e)\n",
    " \n",
    "Read about this library here:\n",
    "https://scikit-learn.org/stable/modules/generated/sklearn.decomposition.PCA.html\n",
    "\n",
    "Reference to create a table of contents with internal links in IPython Notebooks and Markdown documents: https://sebastianraschka.com/Articles/2014_ipython_internal_links.html\n",
    "\n",
    "First |  let's import our relevant libraries."
   ]
  },
  {
   "cell_type": "code",
   "execution_count": 1,
   "metadata": {},
   "outputs": [],
   "source": [
    "import numpy as np\n",
    "from sklearn.decomposition import PCA"
   ]
  },
  {
   "cell_type": "markdown",
   "metadata": {},
   "source": [
    "First, we need to instantiate our data set."
   ]
  },
  {
   "cell_type": "code",
   "execution_count": 2,
   "metadata": {},
   "outputs": [
    {
     "name": "stdout",
     "output_type": "stream",
     "text": [
      "Note: Our data set has *4* Features/Columns and each Feature has *20* Samples/Rows. Therefore, the dimensions of its covariance will be a 4x4 matrix.\n"
     ]
    }
   ],
   "source": [
    "data = np.array([[5.1,3.5,1.4,0.2],\n",
    "[4.9,3.0,1.4,0.2],\n",
    "[4.7,3.2,1.3,0.2],\n",
    "[4.6,3.1,1.5,0.2],\n",
    "[5.0,3.6,1.4,0.2],\n",
    "[5.4,3.9,1.7,0.4],\n",
    "[4.6,3.4,1.4,0.3],\n",
    "[5.0,3.4,1.5,0.2],\n",
    "[4.4,2.9,1.4,0.2],\n",
    "[4.9,3.1,1.5,0.1],\n",
    "[5.4,3.7,1.5,0.2],\n",
    "[4.8,3.4,1.6,0.2],\n",
    "[4.8,3.0,1.4,0.1],\n",
    "[4.3,3.0,1.1,0.1],\n",
    "[5.8,4.0,1.2,0.2],\n",
    "[5.7,4.4,1.5,0.4],\n",
    "[5.4,3.9,1.3,0.4],\n",
    "[5.1,3.5,1.4,0.3],\n",
    "[5.7,3.8,1.7,0.3],\n",
    "[5.1,3.8,1.5,0.3]])\n",
    "\n",
    "print('Note: Our data set has *{}* Features/Columns and each Feature has *{}* Samples/Rows. Therefore, the dimensions of its covariance will be a {}x{} matrix.'.format(data.shape[1],data.shape[0],data.shape[1],data.shape[1]))\n",
    "#features = data.shape[1]"
   ]
  },
  {
   "cell_type": "markdown",
   "metadata": {},
   "source": [
    "**a)** <a id='question_a'></a>Derive a covariance matrix from this data set.\n",
    "\n",
    "Now, in the cell below, calculate your covariance matrix for the above data set:\n",
    "> c = np.cov(x)\n",
    "\n",
    "Note: Covariance of our dataset will be computed among data samples for the 4 features, thus a transpose is needed first before using the $cov$ method to compute its covariances."
   ]
  },
  {
   "cell_type": "code",
   "execution_count": 3,
   "metadata": {},
   "outputs": [],
   "source": [
    "c = np.cov(np.transpose(data))"
   ]
  },
  {
   "cell_type": "markdown",
   "metadata": {},
   "source": [
    "Print the covariance matrix."
   ]
  },
  {
   "cell_type": "code",
   "execution_count": 4,
   "metadata": {},
   "outputs": [
    {
     "name": "stdout",
     "output_type": "stream",
     "text": [
      "[[0.1824 0.1523 0.0198 0.0224]\n",
      " [0.1523 0.1659 0.0155 0.0286]\n",
      " [0.0198 0.0155 0.0213 0.005 ]\n",
      " [0.0224 0.0286 0.005  0.0087]]\n"
     ]
    }
   ],
   "source": [
    "print(c.round(4))"
   ]
  },
  {
   "cell_type": "markdown",
   "metadata": {},
   "source": [
    "**b)** <a id='question_b'></a>Calculate the feature vector of eigenvalues from the covariance matrix.\n",
    "\n",
    "Now, in the cell below, calculate the eigenvectors and eigenvalues of the covariance matrix.\n",
    "\n",
    "As shown in the much larger values/weights in the eigenvectors, the first column or eigenvector $(\\bf{0.7182}$,  $\\bf{0.6821}$, $0.0813, 0.1112)$ mostly captures the information (with eigenvalue of $0.3328$, which amounts to about $88$% of total eigenvalue $0.37835$) from the first two features.  The second column or eigenvector $(0.1316, -0.2716, -0.1669, \\bf{0.9386})$ mostly captures the information from the last feature.  However its eigenvalue of $0.00267$ amounts only about $0.7$% of total eigenvalue $0.37835$."
   ]
  },
  {
   "cell_type": "code",
   "execution_count": 5,
   "metadata": {},
   "outputs": [
    {
     "name": "stdout",
     "output_type": "stream",
     "text": [
      "Note that the eigenvalues are in the order the original data features.\n",
      "eigen-values :  [0.33277 0.00267 0.02384 0.01907]   Their Sum = 0.37835\n",
      "eigen-values % :  [87.95  0.71  6.3   5.04] %\n",
      "eigen-vectors : \n",
      " [[ 0.7182  0.1316  0.6175 -0.2927]\n",
      " [ 0.6821 -0.2716 -0.66    0.1593]\n",
      " [ 0.0813 -0.1669  0.3722  0.9094]\n",
      " [ 0.1112  0.9386 -0.2114  0.2488]]\n"
     ]
    }
   ],
   "source": [
    "print('Note that the eigenvalues are in the order the original data features.')\n",
    "print('eigen-values : ',np.linalg.eig(c)[0].round(5), '  Their Sum = {}'.format(sum(np.linalg.eig(c)[0].round(5))))\n",
    "print('eigen-values % : ',(np.linalg.eig(c)[0]/sum(np.linalg.eig(c)[0])).round(4)*100, '%')\n",
    "print('eigen-vectors : \\n',np.linalg.eig(c)[1].round(4))"
   ]
  },
  {
   "cell_type": "markdown",
   "metadata": {},
   "source": [
    "**c)** <a id='question_c'></a>Project the dataset into the appropriate principle component space.\n",
    "\n",
    "Now calculate the principal components (and we can select the first two components to reduce to 2 dimensions).  First, you need to instantiate your PCA object."
   ]
  },
  {
   "cell_type": "code",
   "execution_count": 6,
   "metadata": {},
   "outputs": [],
   "source": [
    "pca = PCA(n_components=4)"
   ]
  },
  {
   "cell_type": "markdown",
   "metadata": {},
   "source": [
    "Now, in the cell below, train your model on your dataset:\n",
    "> pca.fit(X)"
   ]
  },
  {
   "cell_type": "code",
   "execution_count": 7,
   "metadata": {},
   "outputs": [
    {
     "data": {
      "text/plain": [
       "PCA(n_components=4)"
      ]
     },
     "execution_count": 7,
     "metadata": {},
     "output_type": "execute_result"
    }
   ],
   "source": [
    "#In general a good idea is to scale the data\n",
    "#from scipy import stats\n",
    "#data_zs = stats.zscore(data)\n",
    "pca.fit(data)"
   ]
  },
  {
   "cell_type": "markdown",
   "metadata": {},
   "source": [
    "The following commands can be used to get your explained variance ratios (percentage of variance explained by each of the selected components) and your dimensionally-reduced components.\n",
    "\n",
    "Print these values in the cells below. The command $components\\_$ of the invoked PCA object gives the two eigenvectors, i.e., $components_$ gives Principal Axes in feature space, representing the directions of maximum variance in the data and the components are sorted by the size of explained variance.\n",
    "\n",
    "Note that the eigenvectors computed using Numpy were sequenced the same as the features in the dataset, while the principal components computed using the $PCA$ method from sklearn.decomposition were sequenced according to the descending order of their associated eigenvalues."
   ]
  },
  {
   "cell_type": "code",
   "execution_count": 8,
   "metadata": {},
   "outputs": [
    {
     "name": "stdout",
     "output_type": "stream",
     "text": [
      "eigen-values from Numpy.LinAlg :  [0.3328 0.0027]\n",
      "eigen-vectors from Numpy.LinAlg : \n",
      " [[ 0.7182  0.1316]\n",
      " [ 0.6821 -0.2716]\n",
      " [ 0.0813 -0.1669]\n",
      " [ 0.1112  0.9386]]\n",
      "eigen-values from sklearn.decompositionPCA :  [0.3328 0.0238]\n",
      "eigen-vectors from sklearn.decompositionPCA: \n",
      " [[ 0.7182  0.6821]\n",
      " [ 0.6175 -0.66  ]\n",
      " [ 0.2927 -0.1593]\n",
      " [ 0.1316 -0.2716]]\n"
     ]
    }
   ],
   "source": [
    "print('eigen-values from Numpy.LinAlg : ',np.linalg.eig(c)[0].round(4)[0:2])\n",
    "print('eigen-vectors from Numpy.LinAlg : \\n',np.linalg.eig(c)[1].round(4)[:,0:2])\n",
    "print('eigen-values from sklearn.decompositionPCA : ',pca.explained_variance_.round(4)[0:2])\n",
    "print('eigen-vectors from sklearn.decompositionPCA: \\n',pca.components_.round(4)[:,0:2])"
   ]
  },
  {
   "cell_type": "markdown",
   "metadata": {},
   "source": [
    "The command $explained\\_variance\\_ratio\\_$ gives explaining powers of the two eigenvectors or Principal Components, totaling to $94.25$%."
   ]
  },
  {
   "cell_type": "code",
   "execution_count": 9,
   "metadata": {},
   "outputs": [
    {
     "name": "stdout",
     "output_type": "stream",
     "text": [
      "E𝑥𝑝𝑙𝑎𝑖𝑛𝑒𝑑 𝑣𝑎𝑟𝑖𝑎𝑛𝑐𝑒 𝑟𝑎𝑡𝑖𝑜s: [87.95  6.3   5.04  0.71]%\n"
     ]
    }
   ],
   "source": [
    "print('E𝑥𝑝𝑙𝑎𝑖𝑛𝑒𝑑 𝑣𝑎𝑟𝑖𝑎𝑛𝑐𝑒 𝑟𝑎𝑡𝑖𝑜s: {}%'.format(pca.explained_variance_ratio_.round(4)*100))"
   ]
  },
  {
   "cell_type": "markdown",
   "metadata": {},
   "source": [
    "The command $transform$ projects the dataset into the appropriate principle component space.  Note that the projected data points to the principal components are called 'scores’ in Python."
   ]
  },
  {
   "cell_type": "code",
   "execution_count": 10,
   "metadata": {},
   "outputs": [
    {
     "name": "stdout",
     "output_type": "stream",
     "text": [
      "[[ 0.054  0.021]\n",
      " [-0.431  0.228]\n",
      " [-0.446 -0.065]\n",
      " [-0.57   0.014]\n",
      " [ 0.05  -0.106]\n",
      " [ 0.588  0.012]\n",
      " [-0.363 -0.243]\n",
      " [-0.078  0.063]\n",
      " [-0.858 -0.015]\n",
      " [-0.366  0.22 ]\n",
      " [ 0.414  0.112]\n",
      " [-0.214 -0.024]\n",
      " [-0.514  0.187]\n",
      " [-0.897 -0.233]\n",
      " [ 0.881  0.049]\n",
      " [ 1.129 -0.207]\n",
      " [ 0.556 -0.137]\n",
      " [ 0.065  0.   ]\n",
      " [ 0.725  0.284]\n",
      " [ 0.277 -0.161]]\n"
     ]
    }
   ],
   "source": [
    "pca_transf = pca.transform(data)[:,0:2]\n",
    "print(pca_transf.round(3))"
   ]
  },
  {
   "cell_type": "markdown",
   "metadata": {},
   "source": [
    "**d)** <a id='question_d'></a>Assuming the class of each record is known, explain how this reduced data set could be used to derive a supervised learning algorithm based on clustering.\n",
    "\n",
    "**Response:** The similarity or Euclidean distance function can be defined using the reduced two principal components, instead of the original four features, to apply k-Means method to cluser the the transformed data records into a pre-specified number of clusters. We can then use the known class of each record to evaluate the performance of the k-Means method based on the first two principal components and determine if more principal componenets are needed to improve its performance in terms of the clustering accuracy.\n",
    "\n",
    "This is an example to demonstrate that given the class of each record, how k-Means method is used to work with this reduced data set to devise a supervised learning algorithm based on clustering.  Note that the ISIL memberships data is given."
   ]
  },
  {
   "cell_type": "code",
   "execution_count": 11,
   "metadata": {},
   "outputs": [
    {
     "name": "stdout",
     "output_type": "stream",
     "text": [
      "ISIL_members_Yes_No =  [1 0 0 0 0 1 0 0 0 0 1 1 0 0 1 1 1 0 1 1]\n",
      "ISIL_members_pred   =  [0 0 0 0 0 1 0 0 0 0 1 0 0 0 1 1 1 0 1 1]\n",
      "First Two Principal Components:  0.811\n"
     ]
    }
   ],
   "source": [
    "from sklearn.cluster import KMeans\n",
    "from sklearn.metrics import matthews_corrcoef\n",
    "\n",
    "ISIL_members_Yes_No = [1, 0, 0, 0, 0, 1, 0, 0, 0, 0, 1, 1, 0, 0, 1, 1, 1, 0, 1, 1]  # ISIL members (1=YES, 0=NO)\n",
    "\n",
    "kmeans = KMeans(n_clusters=2, random_state=0).fit(pca_transf[:,0:2])\n",
    "ISIL_members_pred = kmeans.labels_\n",
    "print(\"ISIL_members_Yes_No = \", np.array(ISIL_members_Yes_No))\n",
    "print(\"ISIL_members_pred   = \", ISIL_members_pred)\n",
    "print(\"First Two Principal Components: \",matthews_corrcoef(ISIL_members_Yes_No, ISIL_members_pred).round(3))"
   ]
  },
  {
   "cell_type": "markdown",
   "metadata": {},
   "source": [
    "**e) BONUS:** <a id='question_e'></a>Figure out how to plot your 2D principal components as a scatter plot :\n",
    "\n",
    "https://matplotlib.org/3.1.1/api/_as_gen/matplotlib.pyplot.scatter.html\n",
    "\n",
    "Applying dimensionality reduction to the data using the method $Transform()$ is to project the data on the first two principal components previously extracted from a training set using the method $fit()$."
   ]
  },
  {
   "cell_type": "code",
   "execution_count": 12,
   "metadata": {},
   "outputs": [
    {
     "data": {
      "image/png": "[encoded data removed]",
      "text/plain": [
       "<Figure size 432x288 with 1 Axes>"
      ]
     },
     "metadata": {
      "needs_background": "light"
     },
     "output_type": "display_data"
    }
   ],
   "source": [
    "%matplotlib inline\n",
    "import matplotlib.pyplot as plt\n",
    "PCA(n_components=2)   # aim to select first two principal components\n",
    "pca.fit(data)\n",
    "pca_transf = pca.transform(data)\n",
    "\n",
    "plt.scatter(pca_transf[:,0], pca_transf[:,1]) #, c = y)\n",
    "plt.xlabel('PC1 ({}% explained variance)'.format(pca.explained_variance_ratio_[0].round(3)*100))\n",
    "plt.ylabel('PC2 ({}% explained variance)'.format(pca.explained_variance_ratio_[1].round(3)*100))\n",
    "plt.show()"
   ]
  },
  {
   "cell_type": "markdown",
   "metadata": {},
   "source": [
    "For future reference or uses, this is a set of codes to plot the famous biplot.\n",
    "\n",
    "Source : https://stackoverflow.com/questions/44105773/how-do-i-show-a-scatter-plot-in-python-after-doing-pca\n",
    "\n",
    "What is this biplot telling us? Each feature variable that went into the PCA has an associated arrow. Arrows for each feature variable point in the direction of increasing values of that variable."
   ]
  },
  {
   "cell_type": "code",
   "execution_count": 13,
   "metadata": {},
   "outputs": [
    {
     "data": {
      "image/png": "[encoded data removed]",
      "text/plain": [
       "<Figure size 432x288 with 1 Axes>"
      ]
     },
     "metadata": {
      "needs_background": "light"
     },
     "output_type": "display_data"
    }
   ],
   "source": [
    "#Create the biplot function\n",
    "def biplot(score,coeff,labels=None):\n",
    "    xs = score[:,0]\n",
    "    ys = score[:,1]\n",
    "    n = coeff.shape[0]\n",
    "    scalex = 1.0/(xs.max() - xs.min())\n",
    "    scaley = 1.0/(ys.max() - ys.min())\n",
    "    plt.scatter(xs * scalex,ys * scaley) #, c = y)\n",
    "    for i in range(n):\n",
    "        plt.arrow(0, 0, coeff[i,0], coeff[i,1],color = 'r',alpha = 0.5)\n",
    "        if labels is None:\n",
    "            plt.text(coeff[i,0]* 1.15, coeff[i,1] * 1.15, \"Feature\"+str(i+1), color = 'g', ha = 'center', va = 'center')\n",
    "        else:\n",
    "            plt.text(coeff[i,0]* 1.15, coeff[i,1] * 1.15, labels[i], color = 'g', ha = 'center', va = 'center')\n",
    "plt.xlim(-1,1)\n",
    "plt.ylim(-1,1)\n",
    "plt.xlabel('PC1 ({}% explained variance)'.format(pca.explained_variance_ratio_[0].round(3)*100))\n",
    "plt.ylabel('PC2 ({}% explained variance)'.format(pca.explained_variance_ratio_[1].round(3)*100))\n",
    "plt.grid()\n",
    "\n",
    "#Call the function. Use only the 2 PCs.\n",
    "biplot(pca_transf,np.transpose(pca.components_))\n",
    "plt.show()"
   ]
  },
  {
   "cell_type": "markdown",
   "metadata": {},
   "source": [
    "Source: https://scentellegher.github.io/machine-learning/2020/01/27/pca-loadings-sklearn.html\n",
    "\n",
    "If you look at the ‘Feature1’ arrow, it points towards high values of PC1 - so we know the hgher the value of PC1, the higher the Feature 1. If you look at the ‘Feature2’ arrow, it points towards high values of PC1 - so we know the hgher the value of PC1, the higher the Feature 2. Thus the directions of 'Feature1' and 'Feature2' points to same direction of PC1, reflecting with the positive values/loadings of $0.718$ and $0.682$.\n",
    "\n",
    "Note that the directions of 'Feature1' and 'Feature2' points to opposite directions of PC2, reflecting with the values/loadings of $0.617$ and $-0.660$.\n",
    "\n",
    "Note that the length of the arrow indicates the size of the loading to the feature and the sign indidcate the direction of the loading relation to the feature.\n",
    "\n",
    "The arrows on the biplot are actually representative of the eigenvectors (loadings), so we could just as easily obtain this information from the matrix of the PCA Components to create a Pandas Data Frame as the following:"
   ]
  },
  {
   "cell_type": "code",
   "execution_count": 14,
   "metadata": {},
   "outputs": [
    {
     "data": {
      "text/html": [
       "<div>\n",
       "<style scoped>\n",
       "    .dataframe tbody tr th:only-of-type {\n",
       "        vertical-align: middle;\n",
       "    }\n",
       "\n",
       "    .dataframe tbody tr th {\n",
       "        vertical-align: top;\n",
       "    }\n",
       "\n",
       "    .dataframe thead th {\n",
       "        text-align: right;\n",
       "    }\n",
       "</style>\n",
       "<table border=\"1\" class=\"dataframe\">\n",
       "  <thead>\n",
       "    <tr style=\"text-align: right;\">\n",
       "      <th></th>\n",
       "      <th>PC1</th>\n",
       "      <th>PC2</th>\n",
       "    </tr>\n",
       "  </thead>\n",
       "  <tbody>\n",
       "    <tr>\n",
       "      <th>Feature 1</th>\n",
       "      <td>0.718</td>\n",
       "      <td>0.617</td>\n",
       "    </tr>\n",
       "    <tr>\n",
       "      <th>Feature 2</th>\n",
       "      <td>0.682</td>\n",
       "      <td>-0.660</td>\n",
       "    </tr>\n",
       "    <tr>\n",
       "      <th>Feature 3</th>\n",
       "      <td>0.081</td>\n",
       "      <td>0.372</td>\n",
       "    </tr>\n",
       "    <tr>\n",
       "      <th>Feature 4</th>\n",
       "      <td>0.111</td>\n",
       "      <td>-0.211</td>\n",
       "    </tr>\n",
       "  </tbody>\n",
       "</table>\n",
       "</div>"
      ],
      "text/plain": [
       "             PC1    PC2\n",
       "Feature 1  0.718  0.617\n",
       "Feature 2  0.682 -0.660\n",
       "Feature 3  0.081  0.372\n",
       "Feature 4  0.111 -0.211"
      ]
     },
     "execution_count": 14,
     "metadata": {},
     "output_type": "execute_result"
    }
   ],
   "source": [
    "import pandas as pd\n",
    "pca.components_.T\n",
    "loadings = pd.DataFrame(pca.components_.T[:,0:2].round(3), columns=['PC1','PC2'],\n",
    "                        index=['Feature 1','Feature 2', 'Feature 3', 'Feature 4'])\n",
    "loadings"
   ]
  },
  {
   "cell_type": "markdown",
   "metadata": {},
   "source": [
    "***Now save your output.  Go to File -> Print Preview and save your final output as a PDF.  Turn in to your Instructor, along with any additional sheets."
   ]
  }
 ],
 "metadata": {
  "kernelspec": {
   "display_name": "Python 3",
   "language": "python",
   "name": "python3"
  },
  "language_info": {
   "codemirror_mode": {
    "name": "ipython",
    "version": 3
   },
   "file_extension": ".py",
   "mimetype": "text/x-python",
   "name": "python",
   "nbconvert_exporter": "python",
   "pygments_lexer": "ipython3",
   "version": "3.8.3"
  }
 },
 "nbformat": 4,
 "nbformat_minor": 2
}
