{
 "cells": [
  {
   "cell_type": "code",
   "execution_count": 2,
   "metadata": {},
   "outputs": [
    {
     "data": {
      "text/plain": [
       "7.810249675906654"
      ]
     },
     "execution_count": 2,
     "metadata": {},
     "output_type": "execute_result"
    }
   ],
   "source": [
    "import math\n",
    "((10-5)**2 + (12-6)**2)**0.5"
   ]
  },
  {
   "cell_type": "code",
   "execution_count": 3,
   "metadata": {},
   "outputs": [
    {
     "data": {
      "text/plain": [
       "13.114877048604"
      ]
     },
     "execution_count": 3,
     "metadata": {},
     "output_type": "execute_result"
    }
   ],
   "source": [
    "((10-2)**2 + (12-2)**2+(5-7)**2+(6-8)**2)**0.5"
   ]
  },
  {
   "cell_type": "code",
   "execution_count": 7,
   "metadata": {},
   "outputs": [
    {
     "data": {
      "text/plain": [
       "7.810249675906654"
      ]
     },
     "execution_count": 7,
     "metadata": {},
     "output_type": "execute_result"
    }
   ],
   "source": [
    "import numpy as np\n",
    "a = (10, 12)\n",
    "b = (5,6)\n",
    "a = np.array((10 ,12))\n",
    "b = np.array((5, 6))\n",
    "dist = np.linalg.norm(a-b)\n",
    "dist\n"
   ]
  },
  {
   "cell_type": "code",
   "execution_count": 8,
   "metadata": {},
   "outputs": [
    {
     "data": {
      "text/plain": [
       "13.114877048604"
      ]
     },
     "execution_count": 8,
     "metadata": {},
     "output_type": "execute_result"
    }
   ],
   "source": [
    "import numpy as np\n",
    "a = (10, 12, 5, 6)\n",
    "b = (2,2,7,8)\n",
    "a = np.array(a)\n",
    "b = np.array(b)\n",
    "dist = np.linalg.norm(a-b)\n",
    "dist"
   ]
  },
  {
   "cell_type": "markdown",
   "metadata": {},
   "source": [
    "Reference: https://stackoverflow.com/questions/25375359/how-to-project-new-sets-of-data-onto-a-pca-space-in-matplotlib"
   ]
  },
  {
   "cell_type": "code",
   "execution_count": 31,
   "metadata": {},
   "outputs": [],
   "source": [
    "import numpy as np\n",
    "mu_vec1 = np.array([0,0,0])\n",
    "cov_mat1 = np.array([[1,0,0],[0,1,0],[0,0,1]])\n",
    "class1_sample = np.random.multivariate_normal(mu_vec1, cov_mat1, 20).T\n",
    "assert class1_sample.shape == (3,20), \"The matrix has not the dimensions 3x20\"\n",
    "\n",
    "mu_vec2 = np.array([1,1,1])\n",
    "cov_mat2 = np.array([[1,0,0],[0,1,0],[0,0,1]])\n",
    "class2_sample = np.random.multivariate_normal(mu_vec2, cov_mat2, 20).T\n",
    "assert class2_sample.shape == (3,20), \"The matrix has not the dimensions 3x20\"\n",
    "\n",
    "# concatenate 2 numpy arrays: row-wise\n",
    "all_samples = np.concatenate((class1_sample.T, class2_sample.T))\n",
    "#print(all_samples.shape)"
   ]
  },
  {
   "cell_type": "code",
   "execution_count": 32,
   "metadata": {},
   "outputs": [
    {
     "data": {
      "image/png": "[encoded data removed]",
      "text/plain": [
       "<Figure size 432x288 with 1 Axes>"
      ]
     },
     "metadata": {
      "needs_background": "light"
     },
     "output_type": "display_data"
    }
   ],
   "source": [
    "%matplotlib inline\n",
    "import matplotlib.pyplot as plt\n",
    "from sklearn.decomposition import PCA as sklearnPCA\n",
    "\n",
    "sklearn_pca = sklearnPCA(n_components=2)\n",
    "sklearn_transf = sklearn_pca.fit_transform(all_samples)\n",
    "\n",
    "plt.plot(sklearn_transf[0:20,0],sklearn_transf[0:20,1],\\\n",
    "     'o', markersize=7, color='blue', alpha=0.5, label='class1')\n",
    "plt.plot(sklearn_transf[20:40,0], sklearn_transf[20:40,1],\\\n",
    "     '^', markersize=7, color='red', alpha=0.5, label='class2')\n",
    "\n",
    "plt.xlabel('x_values')\n",
    "plt.ylabel('y_values')\n",
    "plt.xlim([-4,4])\n",
    "plt.ylim([-4,4])\n",
    "plt.legend()\n",
    "plt.title('Transformed samples with class labels from matplotlib.mlab.PCA()')\n",
    "\n",
    "plt.show()"
   ]
  }
 ],
 "metadata": {
  "kernelspec": {
   "display_name": "Python 3",
   "language": "python",
   "name": "python3"
  },
  "language_info": {
   "codemirror_mode": {
    "name": "ipython",
    "version": 3
   },
   "file_extension": ".py",
   "mimetype": "text/x-python",
   "name": "python",
   "nbconvert_exporter": "python",
   "pygments_lexer": "ipython3",
   "version": "3.8.3"
  }
 },
 "nbformat": 4,
 "nbformat_minor": 4
}
