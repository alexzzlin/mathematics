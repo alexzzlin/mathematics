{
 "cells": [
  {
   "cell_type": "code",
   "execution_count": 1,
   "metadata": {},
   "outputs": [
    {
     "data": {
      "text/plain": [
       "7.810249675906654"
      ]
     },
     "execution_count": 1,
     "metadata": {},
     "output_type": "execute_result"
    }
   ],
   "source": [
    "import math\n",
    "((10-5)**2 + (12-6)**2)**0.5"
   ]
  },
  {
   "cell_type": "code",
   "execution_count": 2,
   "metadata": {},
   "outputs": [
    {
     "data": {
      "text/plain": [
       "13.114877048604"
      ]
     },
     "execution_count": 2,
     "metadata": {},
     "output_type": "execute_result"
    }
   ],
   "source": [
    "((10-2)**2 + (12-2)**2+(5-7)**2+(6-8)**2)**0.5"
   ]
  },
  {
   "cell_type": "code",
   "execution_count": 3,
   "metadata": {},
   "outputs": [
    {
     "data": {
      "text/plain": [
       "7.810249675906654"
      ]
     },
     "execution_count": 3,
     "metadata": {},
     "output_type": "execute_result"
    }
   ],
   "source": [
    "import numpy as np\n",
    "a = (10, 12)\n",
    "b = (5,6)\n",
    "a = np.array((10 ,12))\n",
    "b = np.array((5, 6))\n",
    "dist = np.linalg.norm(a-b)\n",
    "dist"
   ]
  },
  {
   "cell_type": "code",
   "execution_count": 4,
   "metadata": {},
   "outputs": [
    {
     "data": {
      "text/plain": [
       "13.114877048604"
      ]
     },
     "execution_count": 4,
     "metadata": {},
     "output_type": "execute_result"
    }
   ],
   "source": [
    "import numpy as np\n",
    "a = (10, 12, 5, 6)\n",
    "b = (2,2,7,8)\n",
    "a = np.array(a)\n",
    "b = np.array(b)\n",
    "dist = np.linalg.norm(a-b)\n",
    "dist"
   ]
  },
  {
   "cell_type": "code",
   "execution_count": 5,
   "metadata": {},
   "outputs": [
    {
     "data": {
      "text/plain": [
       "13.114877048604"
      ]
     },
     "execution_count": 5,
     "metadata": {},
     "output_type": "execute_result"
    }
   ],
   "source": [
    "a = (10, 12, 5, 6)\n",
    "b = (2,2,7,8)\n",
    "a = np.array(a)\n",
    "b = np.array(b)\n",
    "dist = np.linalg.norm(a-b)\n",
    "dist"
   ]
  },
  {
   "cell_type": "code",
   "execution_count": 14,
   "metadata": {},
   "outputs": [
    {
     "name": "stdout",
     "output_type": "stream",
     "text": [
      "4.0 5.0\n"
     ]
    }
   ],
   "source": [
    "def find_centeroids(points):\n",
    "    x_centroid = 0\n",
    "    y_centroid = 0\n",
    "    for pt in points:\n",
    "        x_centroid += pt[0]\n",
    "        y_centroid += pt[1]\n",
    "\n",
    "    x_centroid = x_centroid / len(points)\n",
    "    y_centroid = y_centroid / len(points)\n",
    "    return x_centroid, y_centroid\n",
    "\n",
    "points = [[5,4],[1,5],[3,2],[7,9]]\n",
    "x_centroid, y_centroid = find_centeroids(points)\n",
    "print(x_centroid, y_centroid) "
   ]
  },
  {
   "cell_type": "code",
   "execution_count": 15,
   "metadata": {},
   "outputs": [],
   "source": [
    "points = [[1,4],[3,2],[5,8],[1,1],[0,2],[10,7]]\n",
    "init_pt = [[2,2],[8,10]]\n",
    "# 1. Calculate distance from all points in the set to each centroid.\n",
    "dist1 = []\n",
    "dist2 = []\n",
    "cent1 = np.array(a)\n",
    "cent2 = np.array(b)\n",
    "\n",
    "for pt in points:\n",
    "a = np.array(a)\n",
    "b = np.array(b)\n",
    "dist = np.linalg.norm(a-b)"
   ]
  }
 ],
 "metadata": {
  "kernelspec": {
   "display_name": "Python 3",
   "language": "python",
   "name": "python3"
  },
  "language_info": {
   "codemirror_mode": {
    "name": "ipython",
    "version": 3
   },
   "file_extension": ".py",
   "mimetype": "text/x-python",
   "name": "python",
   "nbconvert_exporter": "python",
   "pygments_lexer": "ipython3",
   "version": "3.8.3"
  }
 },
 "nbformat": 4,
 "nbformat_minor": 4
}
